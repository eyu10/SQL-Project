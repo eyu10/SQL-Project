{
  "nbformat": 4,
  "nbformat_minor": 0,
  "metadata": {
    "colab": {
      "provenance": [],
      "authorship_tag": "ABX9TyM+bnWVOZq6Y/RJ5KVnzW4N",
      "include_colab_link": true
    },
    "kernelspec": {
      "name": "python3",
      "display_name": "Python 3"
    },
    "language_info": {
      "name": "python"
    }
  },
  "cells": [
    {
      "cell_type": "markdown",
      "metadata": {
        "id": "view-in-github",
        "colab_type": "text"
      },
      "source": [
        "<a href=\"https://colab.research.google.com/github/eyu10/SQL-Project/blob/main/reports/API_Diagnostic_Code.ipynb\" target=\"_parent\"><img src=\"https://colab.research.google.com/assets/colab-badge.svg\" alt=\"Open In Colab\"/></a>"
      ]
    },
    {
      "cell_type": "code",
      "execution_count": null,
      "metadata": {
        "id": "Ot5VazDPgSFQ"
      },
      "outputs": [],
      "source": [
        "# Convert height to a uniform numeric value (inches)\n",
        "# Assuming height format is in the form of \"ft-in\", we need to split it and convert it to inches.\n",
        "def convert_height(height):\n",
        "    if pd.isna(height) or '-' not in height:\n",
        "        return None\n",
        "    feet, inches = height.split('-')\n",
        "    return int(feet) * 12 + int(inches)\n",
        "\n",
        "df_diagnostic['height_inches'] = df_diagnostic['height'].apply(convert_height)\n",
        "\n",
        "# Now let's create a scatter plot for height vs. weight and color by draft round\n",
        "plt.figure(figsize=(12, 8))\n",
        "sns.scatterplot(data=df_diagnostic, x='height_inches', y='weight', hue='draft_round', palette='viridis', s=100)\n",
        "\n",
        "# Add labels and title to the plot\n",
        "plt.xlabel('Height (inches)', fontweight='bold', fontsize=14)\n",
        "plt.ylabel('Weight (lbs)', fontweight='bold', fontsize=14)\n",
        "plt.title('Player Height vs Weight Colored by Draft Round', fontweight='bold', fontsize=16)\n",
        "\n",
        "# Show the legend\n",
        "plt.legend(title='Draft Round', bbox_to_anchor=(1.05, 1), loc='upper left')\n",
        "\n",
        "# Show the plot\n",
        "plt.tight_layout()\n",
        "plt.show()\n"
      ]
    }
  ]
}