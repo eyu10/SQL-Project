{
  "nbformat": 4,
  "nbformat_minor": 0,
  "metadata": {
    "colab": {
      "provenance": [],
      "authorship_tag": "ABX9TyNC7N806L6CaPLOxQwqccDu",
      "include_colab_link": true
    },
    "kernelspec": {
      "name": "python3",
      "display_name": "Python 3"
    },
    "language_info": {
      "name": "python"
    }
  },
  "cells": [
    {
      "cell_type": "markdown",
      "metadata": {
        "id": "view-in-github",
        "colab_type": "text"
      },
      "source": [
        "<a href=\"https://colab.research.google.com/github/eyu10/SQL-Project/blob/main/Web_Scrape_SQL_Analysis.ipynb\" target=\"_parent\"><img src=\"https://colab.research.google.com/assets/colab-badge.svg\" alt=\"Open In Colab\"/></a>"
      ]
    },
    {
      "cell_type": "code",
      "execution_count": null,
      "metadata": {
        "id": "l2n-Ud3K8eoq"
      },
      "outputs": [],
      "source": [
        "CREATE TEMPORARY TABLE PlayerHomeAwayAvg AS\n",
        "SELECT\n",
        "  home.NAME,\n",
        "  AVG(CAST(NULLIF(home.PPG, '0') AS DECIMAL(10,2))) AS HomeAvgPPG,\n",
        "  AVG(CAST(NULLIF(away.PPG, '0') AS DECIMAL(10,2))) AS AwayAvgPPG\n",
        "FROM home_stats home\n",
        "JOIN away_stats away ON home.NAME = away.NAME\n",
        "GROUP BY home.NAME;\n",
        "\n",
        "SELECT\n",
        "  NAME,\n",
        "  HomeAvgPPG,\n",
        "  AwayAvgPPG,\n",
        "  HomeAvgPPG - AwayAvgPPG AS PPGDifference\n",
        "FROM PlayerHomeAwayAvg;\n",
        "\n"
      ]
    }
  ]
}