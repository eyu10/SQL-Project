{
  "nbformat": 4,
  "nbformat_minor": 0,
  "metadata": {
    "colab": {
      "provenance": [],
      "include_colab_link": true
    },
    "kernelspec": {
      "name": "python3",
      "display_name": "Python 3"
    },
    "language_info": {
      "name": "python"
    }
  },
  "cells": [
    {
      "cell_type": "markdown",
      "metadata": {
        "id": "view-in-github",
        "colab_type": "text"
      },
      "source": [
        "<a href=\"https://colab.research.google.com/github/eyu10/SQL-Project/blob/main/API_ETL.ipynb\" target=\"_parent\"><img src=\"https://colab.research.google.com/assets/colab-badge.svg\" alt=\"Open In Colab\"/></a>"
      ]
    },
    {
      "cell_type": "code",
      "source": [
        "!pip install requests\n"
      ],
      "metadata": {
        "colab": {
          "base_uri": "https://localhost:8080/"
        },
        "id": "YnhKr77ZY3e5",
        "outputId": "afac682b-92c2-4d85-8483-8e54e6e27327"
      },
      "execution_count": null,
      "outputs": [
        {
          "output_type": "stream",
          "name": "stdout",
          "text": [
            "Requirement already satisfied: requests in /usr/local/lib/python3.10/dist-packages (2.31.0)\n",
            "Requirement already satisfied: charset-normalizer<4,>=2 in /usr/local/lib/python3.10/dist-packages (from requests) (3.3.2)\n",
            "Requirement already satisfied: idna<4,>=2.5 in /usr/local/lib/python3.10/dist-packages (from requests) (3.7)\n",
            "Requirement already satisfied: urllib3<3,>=1.21.1 in /usr/local/lib/python3.10/dist-packages (from requests) (2.0.7)\n",
            "Requirement already satisfied: certifi>=2017.4.17 in /usr/local/lib/python3.10/dist-packages (from requests) (2024.2.2)\n"
          ]
        }
      ]
    },
    {
      "cell_type": "code",
      "source": [
        "import requests\n",
        "\n",
        "# Base URL for the BallDontLie API\n",
        "base_url = \"https://api.balldontlie.io/v1/players\"\n",
        "\n",
        "# Authorization header with the correct format\n",
        "api_key = \"ff198301-a2bc-4d86-84b7-9af3a0bcbe43\"  # Replace with your API key\n",
        "headers = {\n",
        "    \"Authorization\": f\"{api_key}\",\n",
        "}\n",
        "\n",
        "# Endpoint to fetch all players\n",
        "# endpoint = \"players\"\n",
        "url = f\"{base_url}\"\n",
        "\n",
        "# Make the request\n",
        "response = requests.get(url, headers=headers)\n",
        "\n",
        "# Check the response\n",
        "if response.status_code == 200:\n",
        "    # If successful, print the data\n",
        "    player_data = response.json()\n",
        "    print(\"Player data fetched successfully:\")\n",
        "    print(player_data)\n",
        "else:\n",
        "    # If error, display the error code and response content\n",
        "    print(f\"Error: Status code {response.status_code}\")\n",
        "    print(\"Response content:\")\n",
        "    print(response.text)\n"
      ],
      "metadata": {
        "colab": {
          "base_uri": "https://localhost:8080/"
        },
        "id": "alOfW0o0c41B",
        "outputId": "ddfb376a-6699-4e9a-aeb9-0526bc12883a"
      },
      "execution_count": null,
      "outputs": [
        {
          "output_type": "stream",
          "name": "stdout",
          "text": [
            "Player data fetched successfully:\n",
            "{'data': [{'id': 1, 'first_name': 'Alex', 'last_name': 'Abrines', 'position': 'G', 'height': '6-6', 'weight': '190', 'jersey_number': '8', 'college': 'FC Barcelona', 'country': 'Spain', 'draft_year': 2013, 'draft_round': 2, 'draft_number': 32, 'team': {'id': 21, 'conference': 'West', 'division': 'Northwest', 'city': 'Oklahoma City', 'name': 'Thunder', 'full_name': 'Oklahoma City Thunder', 'abbreviation': 'OKC'}}, {'id': 2, 'first_name': 'Jaylen', 'last_name': 'Adams', 'position': 'G', 'height': '6-0', 'weight': '225', 'jersey_number': '10', 'college': 'St. Bonaventure', 'country': 'USA', 'draft_year': None, 'draft_round': None, 'draft_number': None, 'team': {'id': 1, 'conference': 'East', 'division': 'Southeast', 'city': 'Atlanta', 'name': 'Hawks', 'full_name': 'Atlanta Hawks', 'abbreviation': 'ATL'}}, {'id': 3, 'first_name': 'Steven', 'last_name': 'Adams', 'position': 'C', 'height': '6-11', 'weight': '265', 'jersey_number': '12', 'college': 'Pittsburgh', 'country': 'New Zealand', 'draft_year': 2013, 'draft_round': 1, 'draft_number': 12, 'team': {'id': 11, 'conference': 'West', 'division': 'Southwest', 'city': 'Houston', 'name': 'Rockets', 'full_name': 'Houston Rockets', 'abbreviation': 'HOU'}}, {'id': 4, 'first_name': 'Bam', 'last_name': 'Adebayo', 'position': 'C-F', 'height': '6-9', 'weight': '255', 'jersey_number': '13', 'college': 'Kentucky', 'country': 'USA', 'draft_year': 2017, 'draft_round': 1, 'draft_number': 14, 'team': {'id': 16, 'conference': 'East', 'division': 'Southeast', 'city': 'Miami', 'name': 'Heat', 'full_name': 'Miami Heat', 'abbreviation': 'MIA'}}, {'id': 5, 'first_name': 'DeVaughn', 'last_name': 'Akoon-Purcell', 'position': 'G-F', 'height': '6-5', 'weight': '201', 'jersey_number': '44', 'college': 'Illinois State', 'country': 'Trinidad and Tobago', 'draft_year': 2016, 'draft_round': None, 'draft_number': None, 'team': {'id': 8, 'conference': 'West', 'division': 'Northwest', 'city': 'Denver', 'name': 'Nuggets', 'full_name': 'Denver Nuggets', 'abbreviation': 'DEN'}}, {'id': 6, 'first_name': 'LaMarcus', 'last_name': 'Aldridge', 'position': 'F', 'height': '6-11', 'weight': '250', 'jersey_number': '21', 'college': 'Texas', 'country': 'USA', 'draft_year': 2006, 'draft_round': 1, 'draft_number': 2, 'team': {'id': 3, 'conference': 'East', 'division': 'Atlantic', 'city': 'Brooklyn', 'name': 'Nets', 'full_name': 'Brooklyn Nets', 'abbreviation': 'BKN'}}, {'id': 7, 'first_name': 'Rawle', 'last_name': 'Alkins', 'position': 'G', 'height': '6-5', 'weight': '225', 'jersey_number': '20', 'college': 'Arizona', 'country': 'USA', 'draft_year': None, 'draft_round': None, 'draft_number': None, 'team': {'id': 5, 'conference': 'East', 'division': 'Central', 'city': 'Chicago', 'name': 'Bulls', 'full_name': 'Chicago Bulls', 'abbreviation': 'CHI'}}, {'id': 8, 'first_name': 'Grayson', 'last_name': 'Allen', 'position': 'G', 'height': '6-4', 'weight': '198', 'jersey_number': '8', 'college': 'Duke', 'country': 'USA', 'draft_year': 2018, 'draft_round': 1, 'draft_number': 21, 'team': {'id': 24, 'conference': 'West', 'division': 'Pacific', 'city': 'Phoenix', 'name': 'Suns', 'full_name': 'Phoenix Suns', 'abbreviation': 'PHX'}}, {'id': 9, 'first_name': 'Jarrett', 'last_name': 'Allen', 'position': 'C', 'height': '6-9', 'weight': '243', 'jersey_number': '31', 'college': 'Texas', 'country': 'USA', 'draft_year': 2017, 'draft_round': 1, 'draft_number': 22, 'team': {'id': 6, 'conference': 'East', 'division': 'Central', 'city': 'Cleveland', 'name': 'Cavaliers', 'full_name': 'Cleveland Cavaliers', 'abbreviation': 'CLE'}}, {'id': 10, 'first_name': 'Al-Farouq', 'last_name': 'Aminu', 'position': 'F', 'height': '6-8', 'weight': '220', 'jersey_number': '5', 'college': 'Wake Forest', 'country': 'USA', 'draft_year': 2010, 'draft_round': 1, 'draft_number': 8, 'team': {'id': 25, 'conference': 'West', 'division': 'Northwest', 'city': 'Portland', 'name': 'Trail Blazers', 'full_name': 'Portland Trail Blazers', 'abbreviation': 'POR'}}, {'id': 11, 'first_name': 'Justin', 'last_name': 'Anderson', 'position': 'G-F', 'height': '6-5', 'weight': '231', 'jersey_number': '10', 'college': 'Virginia', 'country': 'USA', 'draft_year': 2015, 'draft_round': 1, 'draft_number': 21, 'team': {'id': 12, 'conference': 'East', 'division': 'Central', 'city': 'Indiana', 'name': 'Pacers', 'full_name': 'Indiana Pacers', 'abbreviation': 'IND'}}, {'id': 12, 'first_name': 'Kyle', 'last_name': 'Anderson', 'position': 'F', 'height': '6-9', 'weight': '230', 'jersey_number': '1', 'college': 'UCLA', 'country': 'USA', 'draft_year': 2014, 'draft_round': 1, 'draft_number': 30, 'team': {'id': 18, 'conference': 'West', 'division': 'Northwest', 'city': 'Minnesota', 'name': 'Timberwolves', 'full_name': 'Minnesota Timberwolves', 'abbreviation': 'MIN'}}, {'id': 13, 'first_name': 'Ryan', 'last_name': 'Anderson', 'position': 'F', 'height': '6-10', 'weight': '240', 'jersey_number': '31', 'college': 'California', 'country': 'USA', 'draft_year': 2008, 'draft_round': 1, 'draft_number': 21, 'team': {'id': 19, 'conference': 'West', 'division': 'Southwest', 'city': 'New Orleans', 'name': 'Pelicans', 'full_name': 'New Orleans Pelicans', 'abbreviation': 'NOP'}}, {'id': 14, 'first_name': 'Ike', 'last_name': 'Anigbogu', 'position': 'C', 'height': '6-10', 'weight': '262', 'jersey_number': '13', 'college': 'UCLA', 'country': 'USA', 'draft_year': 2017, 'draft_round': 2, 'draft_number': 47, 'team': {'id': 12, 'conference': 'East', 'division': 'Central', 'city': 'Indiana', 'name': 'Pacers', 'full_name': 'Indiana Pacers', 'abbreviation': 'IND'}}, {'id': 15, 'first_name': 'Giannis', 'last_name': 'Antetokounmpo', 'position': 'F', 'height': '6-11', 'weight': '243', 'jersey_number': '34', 'college': 'Filathlitikos', 'country': 'Greece', 'draft_year': 2013, 'draft_round': 1, 'draft_number': 15, 'team': {'id': 17, 'conference': 'East', 'division': 'Central', 'city': 'Milwaukee', 'name': 'Bucks', 'full_name': 'Milwaukee Bucks', 'abbreviation': 'MIL'}}, {'id': 16, 'first_name': 'Kostas', 'last_name': 'Antetokounmpo', 'position': 'F', 'height': '6-10', 'weight': '200', 'jersey_number': '37', 'college': 'Dayton', 'country': 'Greece', 'draft_year': 2018, 'draft_round': 2, 'draft_number': 60, 'team': {'id': 5, 'conference': 'East', 'division': 'Central', 'city': 'Chicago', 'name': 'Bulls', 'full_name': 'Chicago Bulls', 'abbreviation': 'CHI'}}, {'id': 17, 'first_name': 'Carmelo', 'last_name': 'Anthony', 'position': 'F', 'height': '6-7', 'weight': '238', 'jersey_number': '7', 'college': 'Syracuse', 'country': 'USA', 'draft_year': 2003, 'draft_round': 1, 'draft_number': 3, 'team': {'id': 14, 'conference': 'West', 'division': 'Pacific', 'city': 'Los Angeles', 'name': 'Lakers', 'full_name': 'Los Angeles Lakers', 'abbreviation': 'LAL'}}, {'id': 18, 'first_name': 'OG', 'last_name': 'Anunoby', 'position': 'F', 'height': '6-7', 'weight': '240', 'jersey_number': '8', 'college': 'Indiana', 'country': 'United Kingdom', 'draft_year': 2017, 'draft_round': 1, 'draft_number': 23, 'team': {'id': 20, 'conference': 'East', 'division': 'Atlantic', 'city': 'New York', 'name': 'Knicks', 'full_name': 'New York Knicks', 'abbreviation': 'NYK'}}, {'id': 19, 'first_name': 'Ryan', 'last_name': 'Arcidiacono', 'position': 'G', 'height': '6-3', 'weight': '195', 'jersey_number': '51', 'college': 'Villanova', 'country': 'USA', 'draft_year': None, 'draft_round': None, 'draft_number': None, 'team': {'id': 20, 'conference': 'East', 'division': 'Atlantic', 'city': 'New York', 'name': 'Knicks', 'full_name': 'New York Knicks', 'abbreviation': 'NYK'}}, {'id': 20, 'first_name': 'Trevor', 'last_name': 'Ariza', 'position': 'F', 'height': '6-8', 'weight': '215', 'jersey_number': '8', 'college': 'UCLA', 'country': 'USA', 'draft_year': 2004, 'draft_round': 2, 'draft_number': 43, 'team': {'id': 14, 'conference': 'West', 'division': 'Pacific', 'city': 'Los Angeles', 'name': 'Lakers', 'full_name': 'Los Angeles Lakers', 'abbreviation': 'LAL'}}, {'id': 21, 'first_name': 'D.J.', 'last_name': 'Augustin', 'position': 'G', 'height': '5-11', 'weight': '183', 'jersey_number': '4', 'college': 'Texas', 'country': 'USA', 'draft_year': 2008, 'draft_round': 1, 'draft_number': 9, 'team': {'id': 14, 'conference': 'West', 'division': 'Pacific', 'city': 'Los Angeles', 'name': 'Lakers', 'full_name': 'Los Angeles Lakers', 'abbreviation': 'LAL'}}, {'id': 22, 'first_name': 'Deandre', 'last_name': 'Ayton', 'position': 'C', 'height': '7-0', 'weight': '247', 'jersey_number': '2', 'college': 'Arizona', 'country': 'Bahamas', 'draft_year': 2018, 'draft_round': 1, 'draft_number': 1, 'team': {'id': 25, 'conference': 'West', 'division': 'Northwest', 'city': 'Portland', 'name': 'Trail Blazers', 'full_name': 'Portland Trail Blazers', 'abbreviation': 'POR'}}, {'id': 23, 'first_name': 'Dwayne', 'last_name': 'Bacon', 'position': 'G-F', 'height': '6-6', 'weight': '221', 'jersey_number': '8', 'college': 'Florida State', 'country': 'USA', 'draft_year': 2017, 'draft_round': 2, 'draft_number': 40, 'team': {'id': 14, 'conference': 'West', 'division': 'Pacific', 'city': 'Los Angeles', 'name': 'Lakers', 'full_name': 'Los Angeles Lakers', 'abbreviation': 'LAL'}}, {'id': 24, 'first_name': 'Marvin', 'last_name': 'Bagley III', 'position': 'F', 'height': '6-10', 'weight': '235', 'jersey_number': '35', 'college': 'Duke', 'country': 'USA', 'draft_year': 2018, 'draft_round': 1, 'draft_number': 2, 'team': {'id': 30, 'conference': 'East', 'division': 'Southeast', 'city': 'Washington', 'name': 'Wizards', 'full_name': 'Washington Wizards', 'abbreviation': 'WAS'}}, {'id': 25, 'first_name': 'Ron', 'last_name': 'Baker', 'position': 'G', 'height': '6-4', 'weight': '220', 'jersey_number': '31', 'college': 'Wichita State', 'country': 'USA', 'draft_year': None, 'draft_round': None, 'draft_number': None, 'team': {'id': 20, 'conference': 'East', 'division': 'Atlantic', 'city': 'New York', 'name': 'Knicks', 'full_name': 'New York Knicks', 'abbreviation': 'NYK'}}], 'meta': {'next_cursor': 25, 'per_page': 25}}\n"
          ]
        }
      ]
    },
    {
      "cell_type": "code",
      "source": [
        "aimport pandas as pd\n",
        "import json\n",
        "\n",
        "# Convert the fetched data to a pandas DataFrame\n",
        "player_df = pd.DataFrame(player_data['data'])  # Assuming 'data' contains player info\n",
        "\n",
        "# Display the first few rows to understand the structure\n",
        "print(player_df.head())\n"
      ],
      "metadata": {
        "colab": {
          "base_uri": "https://localhost:8080/"
        },
        "id": "NLHjxzeLgEFQ",
        "outputId": "8b9cc1a8-e17b-4295-83b1-325dc486a6ad"
      },
      "execution_count": null,
      "outputs": [
        {
          "output_type": "stream",
          "name": "stdout",
          "text": [
            "   id first_name      last_name position height weight jersey_number  \\\n",
            "0   1       Alex        Abrines        G    6-6    190             8   \n",
            "1   2     Jaylen          Adams        G    6-0    225            10   \n",
            "2   3     Steven          Adams        C   6-11    265            12   \n",
            "3   4        Bam        Adebayo      C-F    6-9    255            13   \n",
            "4   5   DeVaughn  Akoon-Purcell      G-F    6-5    201            44   \n",
            "\n",
            "           college              country  draft_year  draft_round  \\\n",
            "0     FC Barcelona                Spain      2013.0          2.0   \n",
            "1  St. Bonaventure                  USA         NaN          NaN   \n",
            "2       Pittsburgh          New Zealand      2013.0          1.0   \n",
            "3         Kentucky                  USA      2017.0          1.0   \n",
            "4   Illinois State  Trinidad and Tobago      2016.0          NaN   \n",
            "\n",
            "   draft_number                                               team  \n",
            "0          32.0  {'id': 21, 'conference': 'West', 'division': '...  \n",
            "1           NaN  {'id': 1, 'conference': 'East', 'division': 'S...  \n",
            "2          12.0  {'id': 11, 'conference': 'West', 'division': '...  \n",
            "3          14.0  {'id': 16, 'conference': 'East', 'division': '...  \n",
            "4           NaN  {'id': 8, 'conference': 'West', 'division': 'N...  \n"
          ]
        }
      ]
    }
  ]
}