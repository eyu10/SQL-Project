{
  "nbformat": 4,
  "nbformat_minor": 0,
  "metadata": {
    "colab": {
      "provenance": [],
      "authorship_tag": "ABX9TyMi0JzjRhk7xdEarciSGn/w",
      "include_colab_link": true
    },
    "kernelspec": {
      "name": "python3",
      "display_name": "Python 3"
    },
    "language_info": {
      "name": "python"
    }
  },
  "cells": [
    {
      "cell_type": "markdown",
      "metadata": {
        "id": "view-in-github",
        "colab_type": "text"
      },
      "source": [
        "<a href=\"https://colab.research.google.com/github/eyu10/SQL-Project/blob/main/Web_Scrape_SQL_Analysis.ipynb\" target=\"_parent\"><img src=\"https://colab.research.google.com/assets/colab-badge.svg\" alt=\"Open In Colab\"/></a>"
      ]
    },
    {
      "cell_type": "code",
      "execution_count": null,
      "metadata": {
        "id": "l2n-Ud3K8eoq"
      },
      "outputs": [],
      "source": [
        "\n",
        "-- Descriptive Web Scrape\n",
        "\n",
        "CREATE TEMPORARY TABLE PlayerHomeAwayAvg AS\n",
        "SELECT\n",
        "  home.NAME,\n",
        "  AVG(CAST(NULLIF(home.PPG, '0') AS DECIMAL(10,2))) AS HomeAvgPPG,\n",
        "  AVG(CAST(NULLIF(away.PPG, '0') AS DECIMAL(10,2))) AS AwayAvgPPG\n",
        "FROM home_stats home\n",
        "JOIN away_stats away ON home.NAME = away.NAME\n",
        "GROUP BY home.NAME;\n",
        "\n",
        "SELECT\n",
        "  NAME,\n",
        "  HomeAvgPPG,\n",
        "  AwayAvgPPG,\n",
        "  HomeAvgPPG - AwayAvgPPG AS PPGDifference\n",
        "FROM PlayerHomeAwayAvg;\n",
        "\n",
        "-- Diagnostic Web Scrape\n",
        "\n",
        "SELECT\n",
        "  hs.NAME,\n",
        "  AVG(CAST(hs.PPG AS DECIMAL(10,2))) AS HomeAvgPPG,  -- Average home points per game\n",
        "  AVG(CAST(aw.PPG AS DECIMAL(10,2))) AS AwayAvgPPG,  -- Average away points per game\n",
        "  AVG(CAST(hs.TPG AS DECIMAL(10,2))) AS HomeAvgTPG,  -- Average home turnovers per game\n",
        "  AVG(CAST(aw.TPG AS DECIMAL(10,2))) AS AwayAvgTPG,  -- Average away turnovers per game\n",
        "  AVG(CAST(hs.PPG AS DECIMAL(10,2))) - AVG(CAST(aw.PPG AS DECIMAL(10,2))) AS PPGDiff,  -- Difference in points per game\n",
        "  AVG(CAST(hs.TPG AS DECIMAL(10,2))) - AVG(CAST(aw.TPG AS DECIMAL(10,2))) AS AvgTPGDiff  -- Difference in turnovers per game\n",
        "FROM home_stats hs\n",
        "INNER JOIN away_stats aw ON hs.NAME = aw.NAME\n",
        "GROUP BY hs.NAME;"
      ]
    }
  ]
}
