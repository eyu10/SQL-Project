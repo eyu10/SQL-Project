{
  "nbformat": 4,
  "nbformat_minor": 0,
  "metadata": {
    "colab": {
      "provenance": [],
      "authorship_tag": "ABX9TyPwVedIAh+R6V5AwVZSJQHs",
      "include_colab_link": true
    },
    "kernelspec": {
      "name": "python3",
      "display_name": "Python 3"
    },
    "language_info": {
      "name": "python"
    }
  },
  "cells": [
    {
      "cell_type": "markdown",
      "metadata": {
        "id": "view-in-github",
        "colab_type": "text"
      },
      "source": [
        "<a href=\"https://colab.research.google.com/github/eyu10/SQL-Project/blob/main/Web_Scrape_ETL.ipynb\" target=\"_parent\"><img src=\"https://colab.research.google.com/assets/colab-badge.svg\" alt=\"Open In Colab\"/></a>"
      ]
    },
    {
      "cell_type": "code",
      "execution_count": 2,
      "metadata": {
        "id": "AZ-gLVkZK3mH"
      },
      "outputs": [],
      "source": [
        "import requests\n",
        "from bs4 import BeautifulSoup\n",
        "import pandas as pd"
      ]
    },
    {
      "cell_type": "code",
      "source": [
        "url = \"https://www.statmuse.com/nba/ask/nba-player-stats-home-away-split-this-season\""
      ],
      "metadata": {
        "id": "uMJoqWxiLDos"
      },
      "execution_count": 49,
      "outputs": []
    },
    {
      "cell_type": "code",
      "source": [
        "#Set a headers dictionary to pass to the web page request to prevent 4XX status code permission errors\n",
        "headers = {\n",
        "    'User-Agent': 'Mozilla/5.0 (Windows NT 10.0; Win64; x64) AppleWebKit/537.36 (KHTML, like Gecko) Chrome/91.0.4472.124 Safari/537.36'\n",
        "}\n",
        "\n",
        "#Make a web page GET request with the defined web page URL and the dictionary of headers\n",
        "response = requests.get(url, headers=headers)\n",
        "\n"
      ],
      "metadata": {
        "id": "bc60tCBiLwEY"
      },
      "execution_count": 50,
      "outputs": []
    },
    {
      "cell_type": "code",
      "source": [
        "#Confirm the GET request received a 200 HTTP status code (1 point)\n",
        "if response.status_code == 200:\n",
        "    print(\"Success: The GET request received a 200 HTTP status code.\")\n",
        "else:\n",
        "    print(f\"Failed: The GET request received a {response.status_code} status code.\")"
      ],
      "metadata": {
        "colab": {
          "base_uri": "https://localhost:8080/"
        },
        "id": "KsEyTLVFMy9u",
        "outputId": "a1260056-fd53-4385-ab95-9ae1cfc89065"
      },
      "execution_count": 51,
      "outputs": [
        {
          "output_type": "stream",
          "name": "stdout",
          "text": [
            "Success: The GET request received a 200 HTTP status code.\n"
          ]
        }
      ]
    },
    {
      "cell_type": "code",
      "source": [
        "#View the text in the GET request result\n",
        "print(\"Web Page Content:\", response.text)"
      ],
      "metadata": {
        "id": "e895HQEZM0xK"
      },
      "execution_count": null,
      "outputs": []
    },
    {
      "cell_type": "code",
      "source": [
        "#Create an object of the BeautifulSoup class to parse the web page text with the html.parser parser option\n",
        "soup = BeautifulSoup(response.text, 'html.parser')"
      ],
      "metadata": {
        "id": "QftnG0TtNJD2"
      },
      "execution_count": 53,
      "outputs": []
    },
    {
      "cell_type": "code",
      "source": [
        "# Locate the table containing the player stats\n",
        "table = soup.find(\"table\")  # Check for the correct table identifier\n",
        "\n",
        "# If the table is found, extract the data\n",
        "if table:\n",
        "    # Extract the column headers for the table\n",
        "    headers = [th.text for th in table.find_all(\"th\")]\n",
        "\n",
        "    # Extract the rows from the table body\n",
        "    rows = table.find(\"tbody\").find_all(\"tr\")\n",
        "\n",
        "    # Collect data from each row\n",
        "    player_data = []\n",
        "    for row in rows:\n",
        "        row_data = [td.text for td in row.find_all(\"td\")]\n",
        "        if row_data:  # Ensure row is not empty\n",
        "            player_data.append(row_data)\n",
        "\n",
        "    # Create a DataFrame with the extracted data\n",
        "    df = pd.DataFrame(player_data, columns=headers)\n",
        "\n",
        "    # Display the DataFrame's information and preview\n",
        "    print(df.info())\n",
        "    print(df.head())\n",
        "\n",
        "    # Export to CSV to save the data\n",
        "    df.to_csv(\"nba_player_home_away_stats.csv\", index=False)\n",
        "else:\n",
        "    print(\"Table not found. Ensure you're looking in the right section.\")\n"
      ],
      "metadata": {
        "colab": {
          "base_uri": "https://localhost:8080/"
        },
        "id": "0i4eh4E8ppcr",
        "outputId": "8503488b-079f-4c9f-ac53-f7d0056cec99"
      },
      "execution_count": 55,
      "outputs": [
        {
          "output_type": "stream",
          "name": "stdout",
          "text": [
            "<class 'pandas.core.frame.DataFrame'>\n",
            "RangeIndex: 25 entries, 0 to 24\n",
            "Data columns (total 31 columns):\n",
            " #   Column   Non-Null Count  Dtype \n",
            "---  ------   --------------  ----- \n",
            " 0            25 non-null     object\n",
            " 1   NAME     25 non-null     object\n",
            " 2   LOC      25 non-null     object\n",
            " 3   SEASON   25 non-null     object\n",
            " 4   TM       25 non-null     object\n",
            " 5   GP       25 non-null     object\n",
            " 6   MPG      25 non-null     object\n",
            " 7   PPG      25 non-null     object\n",
            " 8   RPG      25 non-null     object\n",
            " 9   APG      25 non-null     object\n",
            " 10  SPG      25 non-null     object\n",
            " 11  BPG      25 non-null     object\n",
            " 12  TPG      25 non-null     object\n",
            " 13  FGM      25 non-null     object\n",
            " 14  FGA      25 non-null     object\n",
            " 15  FG%      25 non-null     object\n",
            " 16  3PM      25 non-null     object\n",
            " 17  3PA      25 non-null     object\n",
            " 18  3P%      25 non-null     object\n",
            " 19  FTM      25 non-null     object\n",
            " 20  FTA      25 non-null     object\n",
            " 21  FT%      25 non-null     object\n",
            " 22  MIN      25 non-null     object\n",
            " 23  PTS      25 non-null     object\n",
            " 24  REB      25 non-null     object\n",
            " 25  AST      25 non-null     object\n",
            " 26  STL      25 non-null     object\n",
            " 27  BLK      25 non-null     object\n",
            " 28  TOV      25 non-null     object\n",
            " 29  PF       25 non-null     object\n",
            " 30  +/-      25 non-null     object\n",
            "dtypes: object(31)\n",
            "memory usage: 6.2+ KB\n",
            "None\n",
            "                         NAME     LOC     SEASON       TM    GP     MPG   \\\n",
            "0      Giannis Antetokounmpo    Home    2023-24     MIL     38    34.1     \n",
            "1      Giannis Antetokounmpo    Away    2023-24     MIL     35    36.3     \n",
            "2            Harrison Barnes    Home    2023-24     SAC     41    29.2     \n",
            "3            Harrison Barnes    Away    2023-24     SAC     41    28.8     \n",
            "4              Nicolas Batum    Home    2023-24      TOT    30    25.0     \n",
            "\n",
            "     PPG     RPG    APG   ...     FT%      MIN      PTS    REB    AST   STL   \\\n",
            "0  28.2    11.7    6.3    ...   65.0    1,295    1,071    446    239    42     \n",
            "1  32.9    11.3    6.8    ...   66.4    1,272    1,151    395    237    45     \n",
            "2  12.0     3.3    1.4    ...   81.4    1,198      493    135     58    27     \n",
            "3  12.4     2.8    1.0    ...   79.1    1,182      507    114     41    27     \n",
            "4   5.2     4.2    2.1    ...  100.0      749      156    125     63    29     \n",
            "\n",
            "   BLK    TOV     PF     +/-   \n",
            "0  47    133    103    +233    \n",
            "1  32    117    107    +106    \n",
            "2   6     23     52     -13    \n",
            "3   6     35     46     -67    \n",
            "4  22     24     56    +153    \n",
            "\n",
            "[5 rows x 31 columns]\n"
          ]
        }
      ]
    },
    {
      "cell_type": "code",
      "source": [
        "# Find the table containing the player stats\n",
        "table = soup.find(\"table\")  # Check for the correct table identifier\n",
        "\n",
        "# Confirm if the table is found\n",
        "if table:\n",
        "    print(\"Table found.\")\n",
        "else:\n",
        "    print(\"Table not found. Check the identifier or HTML structure.\")\n"
      ],
      "metadata": {
        "colab": {
          "base_uri": "https://localhost:8080/"
        },
        "id": "3KKut5rqu98x",
        "outputId": "d6797723-f7f2-4d36-e384-030df4bfd773"
      },
      "execution_count": 56,
      "outputs": [
        {
          "output_type": "stream",
          "name": "stdout",
          "text": [
            "Table found.\n"
          ]
        }
      ]
    },
    {
      "cell_type": "code",
      "source": [
        "# Extract the column headers from the table\n",
        "headers = [th.text for th in table.find_all(\"th\")]\n",
        "\n",
        "# Display the extracted headers to confirm\n",
        "print(\"Extracted headers:\", headers)\n"
      ],
      "metadata": {
        "colab": {
          "base_uri": "https://localhost:8080/"
        },
        "id": "rzTJCKRou-6q",
        "outputId": "2ebf3b0e-3f2f-48fc-c1e1-134901573e70"
      },
      "execution_count": 57,
      "outputs": [
        {
          "output_type": "stream",
          "name": "stdout",
          "text": [
            "Extracted headers: [' ', 'NAME ', 'LOC ', 'SEASON ', 'TM ', 'GP ', 'MPG ', 'PPG ', 'RPG ', 'APG ', 'SPG ', 'BPG ', 'TPG ', 'FGM ', 'FGA ', 'FG% ', '3PM ', '3PA ', '3P% ', 'FTM ', 'FTA ', 'FT% ', 'MIN ', 'PTS ', 'REB ', 'AST ', 'STL ', 'BLK ', 'TOV ', 'PF ', '+/- ']\n"
          ]
        }
      ]
    },
    {
      "cell_type": "code",
      "source": [
        "# Extract the rows from the table body\n",
        "rows = table.find(\"tbody\").find_all(\"tr\")\n",
        "\n",
        "# Collect data for each row to create a DataFrame\n",
        "player_data = []\n",
        "for row in rows:\n",
        "    row_data = [td.text for td in row.find_all(\"td\")]\n",
        "    if row_data:  # Ensure the row is not empty\n",
        "        player_data.append(row_data)\n",
        "\n",
        "# Display the total number of rows extracted\n",
        "print(f\"Total rows extracted: {len(player_data)}\")\n"
      ],
      "metadata": {
        "colab": {
          "base_uri": "https://localhost:8080/"
        },
        "id": "KzcgIuXHvP2F",
        "outputId": "6989b6de-ae66-4a4d-b0fd-dc0319ba94df"
      },
      "execution_count": 58,
      "outputs": [
        {
          "output_type": "stream",
          "name": "stdout",
          "text": [
            "Total rows extracted: 25\n"
          ]
        }
      ]
    },
    {
      "cell_type": "code",
      "source": [
        "import pandas as pd  # Ensure pandas is imported\n",
        "\n",
        "# Create a DataFrame with the extracted data\n",
        "df = pd.DataFrame(player_data, columns=headers)\n",
        "\n",
        "# Display the DataFrame's info to confirm its structure\n",
        "print(df.info())\n",
        "print(df.head())\n"
      ],
      "metadata": {
        "colab": {
          "base_uri": "https://localhost:8080/"
        },
        "id": "ogwfVOI2vRvI",
        "outputId": "db41d986-dc8e-4490-9f93-fb42858a87ba"
      },
      "execution_count": 59,
      "outputs": [
        {
          "output_type": "stream",
          "name": "stdout",
          "text": [
            "<class 'pandas.core.frame.DataFrame'>\n",
            "RangeIndex: 25 entries, 0 to 24\n",
            "Data columns (total 31 columns):\n",
            " #   Column   Non-Null Count  Dtype \n",
            "---  ------   --------------  ----- \n",
            " 0            25 non-null     object\n",
            " 1   NAME     25 non-null     object\n",
            " 2   LOC      25 non-null     object\n",
            " 3   SEASON   25 non-null     object\n",
            " 4   TM       25 non-null     object\n",
            " 5   GP       25 non-null     object\n",
            " 6   MPG      25 non-null     object\n",
            " 7   PPG      25 non-null     object\n",
            " 8   RPG      25 non-null     object\n",
            " 9   APG      25 non-null     object\n",
            " 10  SPG      25 non-null     object\n",
            " 11  BPG      25 non-null     object\n",
            " 12  TPG      25 non-null     object\n",
            " 13  FGM      25 non-null     object\n",
            " 14  FGA      25 non-null     object\n",
            " 15  FG%      25 non-null     object\n",
            " 16  3PM      25 non-null     object\n",
            " 17  3PA      25 non-null     object\n",
            " 18  3P%      25 non-null     object\n",
            " 19  FTM      25 non-null     object\n",
            " 20  FTA      25 non-null     object\n",
            " 21  FT%      25 non-null     object\n",
            " 22  MIN      25 non-null     object\n",
            " 23  PTS      25 non-null     object\n",
            " 24  REB      25 non-null     object\n",
            " 25  AST      25 non-null     object\n",
            " 26  STL      25 non-null     object\n",
            " 27  BLK      25 non-null     object\n",
            " 28  TOV      25 non-null     object\n",
            " 29  PF       25 non-null     object\n",
            " 30  +/-      25 non-null     object\n",
            "dtypes: object(31)\n",
            "memory usage: 6.2+ KB\n",
            "None\n",
            "                         NAME     LOC     SEASON       TM    GP     MPG   \\\n",
            "0      Giannis Antetokounmpo    Home    2023-24     MIL     38    34.1     \n",
            "1      Giannis Antetokounmpo    Away    2023-24     MIL     35    36.3     \n",
            "2            Harrison Barnes    Home    2023-24     SAC     41    29.2     \n",
            "3            Harrison Barnes    Away    2023-24     SAC     41    28.8     \n",
            "4              Nicolas Batum    Home    2023-24      TOT    30    25.0     \n",
            "\n",
            "     PPG     RPG    APG   ...     FT%      MIN      PTS    REB    AST   STL   \\\n",
            "0  28.2    11.7    6.3    ...   65.0    1,295    1,071    446    239    42     \n",
            "1  32.9    11.3    6.8    ...   66.4    1,272    1,151    395    237    45     \n",
            "2  12.0     3.3    1.4    ...   81.4    1,198      493    135     58    27     \n",
            "3  12.4     2.8    1.0    ...   79.1    1,182      507    114     41    27     \n",
            "4   5.2     4.2    2.1    ...  100.0      749      156    125     63    29     \n",
            "\n",
            "   BLK    TOV     PF     +/-   \n",
            "0  47    133    103    +233    \n",
            "1  32    117    107    +106    \n",
            "2   6     23     52     -13    \n",
            "3   6     35     46     -67    \n",
            "4  22     24     56    +153    \n",
            "\n",
            "[5 rows x 31 columns]\n"
          ]
        }
      ]
    },
    {
      "cell_type": "code",
      "source": [
        "# Identify and correct blank or invalid column names\n",
        "corrected_headers = [header.strip() or 'Unnamed' for header in headers]  # Replace blank names with 'Unnamed'\n",
        "\n",
        "# Re-create the DataFrame with corrected headers\n",
        "df = pd.DataFrame(player_data, columns=corrected_headers)\n",
        "\n",
        "# Load the DataFrame into the AWS RDS database with corrected headers\n",
        "df.to_sql('player_stats', con=engine, if_exists='replace', index=False)\n",
        "\n",
        "print(\"DataFrame successfully loaded into the AWS RDS database.\")\n"
      ],
      "metadata": {
        "colab": {
          "base_uri": "https://localhost:8080/"
        },
        "id": "FOLiybmG1fpm",
        "outputId": "7bd8462c-67e8-439e-ec88-2a3b1942a0cc"
      },
      "execution_count": 69,
      "outputs": [
        {
          "output_type": "stream",
          "name": "stdout",
          "text": [
            "DataFrame successfully loaded into the AWS RDS database.\n"
          ]
        }
      ]
    },
    {
      "cell_type": "code",
      "source": [
        "from sqlalchemy import create_engine  # Import SQLAlchemy\n",
        "\n",
        "# Database connection details\n",
        "db_host = \"nbaplayers.ch7mhjpbrvtl.us-east-1.rds.amazonaws.com\"  # AWS RDS host\n",
        "db_username = \"admin\"  # Admin username\n",
        "db_password = \"Golf23!!!\"  # Database password\n",
        "db_schema = \"sql_project\"  # Schema (database) name\n",
        "db_port = 3306  # Default MySQL port\n",
        "\n",
        "# Create a SQLAlchemy engine for the MySQL database\n",
        "db_url = f\"mysql+pymysql://{db_username}:{db_password}@{db_host}:{db_port}/{db_schema}\"\n",
        "engine = create_engine(db_url)\n",
        "\n",
        "# Load the DataFrame into a specific table (replace 'player_stats' with your table name)\n",
        "df.to_sql('player_stats', con=engine, if_exists='replace', index=False)\n",
        "\n",
        "print(\"DataFrame successfully loaded into the AWS RDS database.\")\n"
      ],
      "metadata": {
        "colab": {
          "base_uri": "https://localhost:8080/"
        },
        "id": "otZO0DZx1Vp2",
        "outputId": "e068696d-9423-45fc-8939-d50e6967e682"
      },
      "execution_count": 70,
      "outputs": [
        {
          "output_type": "stream",
          "name": "stdout",
          "text": [
            "DataFrame successfully loaded into the AWS RDS database.\n"
          ]
        }
      ]
    },
    {
      "cell_type": "code",
      "source": [
        "# Export the DataFrame to a CSV file\n",
        "csv_filename = \"nba_player_home_away_stats.csv\"  # Name your CSV file\n",
        "df.to_csv(csv_filename, index=False)\n",
        "\n",
        "print(f\"Data exported to {csv_filename}\")\n"
      ],
      "metadata": {
        "colab": {
          "base_uri": "https://localhost:8080/"
        },
        "id": "ANibLDiuveMX",
        "outputId": "81cbb5e6-182f-402f-91d3-16f25c88eb9e"
      },
      "execution_count": 71,
      "outputs": [
        {
          "output_type": "stream",
          "name": "stdout",
          "text": [
            "Data exported to nba_player_home_away_stats.csv\n"
          ]
        }
      ]
    },
    {
      "cell_type": "code",
      "source": [
        "!pip install pymysql\n",
        "!pip install sqlalchemy"
      ],
      "metadata": {
        "colab": {
          "base_uri": "https://localhost:8080/"
        },
        "id": "6hVU2_wZv0dw",
        "outputId": "ebd2dcc5-1dee-4f40-9224-5f1778683ca8"
      },
      "execution_count": 72,
      "outputs": [
        {
          "output_type": "stream",
          "name": "stdout",
          "text": [
            "Requirement already satisfied: pymysql in /usr/local/lib/python3.10/dist-packages (1.1.0)\n",
            "Requirement already satisfied: sqlalchemy in /usr/local/lib/python3.10/dist-packages (2.0.29)\n",
            "Requirement already satisfied: typing-extensions>=4.6.0 in /usr/local/lib/python3.10/dist-packages (from sqlalchemy) (4.11.0)\n",
            "Requirement already satisfied: greenlet!=0.4.17 in /usr/local/lib/python3.10/dist-packages (from sqlalchemy) (3.0.3)\n"
          ]
        }
      ]
    }
  ]
}
