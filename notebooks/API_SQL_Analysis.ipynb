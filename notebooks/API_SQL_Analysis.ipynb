{
  "nbformat": 4,
  "nbformat_minor": 0,
  "metadata": {
    "colab": {
      "provenance": [],
      "authorship_tag": "ABX9TyPTridVihPJouRRL3s3IfnK",
      "include_colab_link": true
    },
    "kernelspec": {
      "name": "python3",
      "display_name": "Python 3"
    },
    "language_info": {
      "name": "python"
    }
  },
  "cells": [
    {
      "cell_type": "markdown",
      "metadata": {
        "id": "view-in-github",
        "colab_type": "text"
      },
      "source": [
        "<a href=\"https://colab.research.google.com/github/eyu10/SQL-Project/blob/main/API_SQL_Analysis.ipynb\" target=\"_parent\"><img src=\"https://colab.research.google.com/assets/colab-badge.svg\" alt=\"Open In Colab\"/></a>"
      ]
    },
    {
      "cell_type": "code",
      "execution_count": null,
      "metadata": {
        "id": "1lpkwRgccFF6"
      },
      "outputs": [],
      "source": [
        "-- Descriptive API\n",
        "SELECT\n",
        "  pt.team,\n",
        "  SUM(CASE WHEN pp.country = 'USA' THEN 1 ELSE 0 END) AS CountPlayersUSA,\n",
        "  SUM(CASE WHEN pp.country <> 'USA' THEN 1 ELSE 0 END) AS CountPlayersInternational,\n",
        "  COUNT(*) AS TotalPlayers\n",
        "FROM PlayerPersonal pp\n",
        "JOIN PlayerTeam pt ON pp.id = pt.id\n",
        "GROUP BY pt.team;\n",
        "\n",
        "-- Diagnostic API\n",
        "WITH DraftDetails AS (\n",
        "  SELECT\n",
        "    pt.draft_round\n",
        "  FROM PlayerTeam pt\n",
        "  JOIN PlayerPersonal pp ON pt.id = pp.id\n",
        "  GROUP BY pt.draft_round\n",
        ")\n",
        "\n",
        "SELECT\n",
        "  DISTINCTROW pp.first_name,\n",
        "  pp.last_name,\n",
        "  pp.position,\n",
        "  pp.height,\n",
        "  pp.weight,\n",
        "  pp.college,\n",
        "  pt.draft_year,\n",
        "  pt.draft_round,\n",
        "  pt.draft_number,\n",
        "  pt.team,\n",
        "  RANK() OVER (ORDER BY pp.height DESC) AS HeightRank,\n",
        "  RANK() OVER (ORDER BY pp.weight DESC) AS WeightRank\n",
        "FROM PlayerPersonal pp\n",
        "JOIN PlayerTeam pt ON pp.id = pt.id;"
      ]
    }
  ]
}
